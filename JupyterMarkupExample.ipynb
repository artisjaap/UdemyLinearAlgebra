{
 "cells": [
  {
   "cell_type": "code",
   "execution_count": null,
   "metadata": {
    "collapsed": true
   },
   "outputs": [],
   "source": []
  },
  {
   "cell_type": "markdown",
   "source": [
    "# title\n",
    "## title\n",
    "### title\n",
    "#### title\n",
    "text\n",
    "\n",
    "__bold__\n",
    "\n",
    "_italic_\n",
    "\n",
    "$ math symbols $\n",
    "\n",
    "`monospace`\n",
    "\n",
    "<font color=\"green\">color: green bule red pink yellow</font>\n",
    "\n",
    "> indent\n",
    "\n",
    "- bullet\n",
    "- bullet\n",
    "\n",
    "\n",
    "1. list item\n",
    "1. list item\n",
    "\n",
    "&#1235;\n",
    "\n",
    "horizontal line\n",
    "*** \n"
   ],
   "metadata": {
    "collapsed": false
   }
  }
 ],
 "metadata": {
  "kernelspec": {
   "display_name": "Python 3",
   "language": "python",
   "name": "python3"
  },
  "language_info": {
   "codemirror_mode": {
    "name": "ipython",
    "version": 2
   },
   "file_extension": ".py",
   "mimetype": "text/x-python",
   "name": "python",
   "nbconvert_exporter": "python",
   "pygments_lexer": "ipython2",
   "version": "2.7.6"
  },
  "pycharm": {
   "stem_cell": {
    "cell_type": "raw",
    "source": [],
    "metadata": {
     "collapsed": false
    }
   }
  }
 },
 "nbformat": 4,
 "nbformat_minor": 0
}