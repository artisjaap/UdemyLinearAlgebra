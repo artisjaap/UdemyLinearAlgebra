{
 "cells": [
  {
   "cell_type": "code",
   "execution_count": 8,
   "metadata": {
    "collapsed": true,
    "pycharm": {
     "is_executing": false
    }
   },
   "outputs": [],
   "source": [
    "import numpy as np\n",
    "import matplotlib.pyplot as plt"
   ]
  },
  {
   "cell_type": "markdown",
   "source": [
    "Code challenge\n",
    "- generate 6x6 matrix\n",
    "- compute the determinant\n",
    "- swap one row, det again\n",
    "- swap two rows, det again"
   ],
   "metadata": {
    "collapsed": false
   }
  },
  {
   "cell_type": "code",
   "execution_count": null,
   "outputs": [],
   "source": [
    "n = 6\n",
    "M = np.round(np.random.randn(n,n)*10)\n",
    "print(M)\n",
    "detM = np.linalg.det(M)\n",
    "print(\"determinant det(M): \" + str(detM))\n",
    "\n",
    "# swap a row\n",
    "Ms = M[[0,2,1,3,4,5]]\n",
    "detM = np.linalg.det(Ms)\n",
    "print(\"determinant det(M): \" + str(detM))\n",
    "\n",
    "# swap 2rows\n",
    "Ms = M[[0,2,1,4,3,5]]\n",
    "detM = np.linalg.det(Ms)\n",
    "print(\"determinant det(M): \" + str(detM))\n",
    "\n",
    "\n"
   ],
   "metadata": {
    "collapsed": false,
    "pycharm": {
     "name": "#%%\n"
    }
   }
  },
  {
   "cell_type": "markdown",
   "source": [
    "code challenge"
   ],
   "metadata": {
    "collapsed": false,
    "pycharm": {
     "name": "#%% md\n"
    }
   }
  },
  {
   "cell_type": "code",
   "execution_count": 14,
   "outputs": [
    {
     "data": {
      "text/plain": "<Figure size 432x288 with 1 Axes>",
      "image/png": "[encoded data removed]"
     },
     "metadata": {
      "needs_background": "light"
     },
     "output_type": "display_data"
    }
   ],
   "source": [
    "n = 20\n",
    "lstep = 10\n",
    "lresult = np.zeros(lstep)\n",
    "repeat = 1000\n",
    "\n",
    "for i in range(repeat):\n",
    "    A = np.random.randn(n,n)\n",
    "    A[:,1] = A[:,2]\n",
    "    currentl = 0;\n",
    "    for l in np.arange(0, 0.1, 0.1/lstep):\n",
    "        As = A+np.eye(n)*l\n",
    "        adet = np.abs(np.linalg.det(As))\n",
    "\n",
    "        lresult[currentl] = adet\n",
    "        currentl = currentl+1;\n",
    "        \n",
    "lresult = lresult/repeat\n",
    "\n",
    "\n",
    "plt.plot(lresult)\n",
    "plt.show()"
   ],
   "metadata": {
    "collapsed": false,
    "pycharm": {
     "name": "#%%\n",
     "is_executing": false
    }
   }
  }
 ],
 "metadata": {
  "kernelspec": {
   "display_name": "Python 3",
   "language": "python",
   "name": "python3"
  },
  "language_info": {
   "codemirror_mode": {
    "name": "ipython",
    "version": 2
   },
   "file_extension": ".py",
   "mimetype": "text/x-python",
   "name": "python",
   "nbconvert_exporter": "python",
   "pygments_lexer": "ipython2",
   "version": "2.7.6"
  },
  "pycharm": {
   "stem_cell": {
    "cell_type": "raw",
    "source": [],
    "metadata": {
     "collapsed": false
    }
   }
  }
 },
 "nbformat": 4,
 "nbformat_minor": 0
}