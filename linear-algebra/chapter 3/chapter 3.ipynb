{
 "cells": [
  {
   "cell_type": "code",
   "execution_count": 2,
   "metadata": {
    "collapsed": true,
    "pycharm": {
     "is_executing": false
    }
   },
   "outputs": [],
   "source": [
    "import numpy as np\n",
    "import matplotlib.pyplot as plt\n"
   ]
  },
  {
   "cell_type": "markdown",
   "source": [
    "Illustrate that the matrix is used to rotate and scale the vector"
   ],
   "metadata": {
    "collapsed": false
   }
  },
  {
   "cell_type": "code",
   "execution_count": 7,
   "outputs": [
    {
     "data": {
      "text/plain": "<Figure size 432x288 with 1 Axes>",
      "image/png": "[encoded data removed]"
     },
     "metadata": {
      "needs_background": "light"
     },
     "output_type": "display_data"
    }
   ],
   "source": [
    "v = np.array([3,-2])\n",
    "A = np.array([[1,-1],[2,1]])\n",
    "w = A@np.matrix.transpose(v)\n",
    "\n",
    "plt.plot([0, v[0]], [0, v[1]], 'k', label='v1')\n",
    "plt.plot([0, w[0]], [0, w[1]], 'r', label='v2')\n",
    "\n",
    "plt.axis('square')\n",
    "plt.axis((-2,6,-4,6))\n",
    "plt.grid()\n",
    "plt.show()"
   ],
   "metadata": {
    "collapsed": false,
    "pycharm": {
     "name": "#%%\n",
     "is_executing": false
    }
   }
  },
  {
   "cell_type": "markdown",
   "source": [
    "illustrate that the matrix is only used to rotate and not to scale (pure rotation matrix)"
   ],
   "metadata": {
    "collapsed": false
   }
  },
  {
   "cell_type": "code",
   "execution_count": 16,
   "outputs": [
    {
     "data": {
      "text/plain": "<Figure size 432x288 with 1 Axes>",
      "image/png": "[encoded data removed]"
     },
     "metadata": {
      "needs_background": "light"
     },
     "output_type": "display_data"
    }
   ],
   "source": [
    "theta = np.pi/2\n",
    "v = np.array([3,-2])\n",
    "A = np.array([[np.cos(theta), -np.sin(theta)],[np.sin(theta), np.cos(theta)]])\n",
    "\n",
    "w = A@np.matrix.transpose(v)\n",
    "\n",
    "\n",
    "plt.plot([0, v[0]], [0, v[1]], 'k', label='v1')\n",
    "plt.plot([0, w[0]], [0, w[1]], 'r', label='v2')\n",
    "\n",
    "plt.axis('square')\n",
    "plt.axis((-6,6,-6,6))\n",
    "plt.grid()\n",
    "plt.show()"
   ],
   "metadata": {
    "collapsed": false,
    "pycharm": {
     "name": "#%%\n",
     "is_executing": false
    }
   }
  },
  {
   "cell_type": "markdown",
   "source": [
    "Code challenge: pure and impure rotation\n",
    "---\n",
    "\n"
   ],
   "metadata": {
    "collapsed": false
   }
  },
  {
   "cell_type": "code",
   "execution_count": 38,
   "outputs": [
    {
     "data": {
      "text/plain": "<Figure size 432x288 with 1 Axes>",
      "image/png": "[encoded data removed]"
     },
     "metadata": {
      "needs_background": "light"
     },
     "output_type": "display_data"
    }
   ],
   "source": [
    "thetas = np.linspace(0, 2*np.pi, 100)\n",
    "result = np.zeros((thetas.size,2))\n",
    "\n",
    "\n",
    "for n in range(thetas.size):\n",
    "    theta = thetas[n]\n",
    "    v = np.array([3,-2])\n",
    "    A = np.array([[np.cos(theta), -np.sin(theta)],[np.sin(theta), np.cos(theta)]])\n",
    "    AI = np.array([[2*np.cos(theta), -np.sin(theta)],[np.sin(theta), np.cos(theta)]])\n",
    "    \n",
    "    w = A@np.matrix.transpose(v)\n",
    "    wi = AI@np.matrix.transpose(v)\n",
    "    \n",
    "    mag = np.linalg.norm(w)\n",
    "    magi= np.linalg.norm(wi)\n",
    "    \n",
    "    result[n, 0] = mag  \n",
    "    result[n, 1] = magi\n",
    "    \n",
    "plt.plot(thetas, result)\n",
    "plt.axis('square')\n",
    "plt.axis((0,8,0,8))\n",
    "plt.grid()\n",
    "plt.show()"
   ],
   "metadata": {
    "collapsed": false,
    "pycharm": {
     "name": "#%%\n",
     "is_executing": false
    }
   }
  }
 ],
 "metadata": {
  "language_info": {
   "codemirror_mode": {
    "name": "ipython",
    "version": 2
   },
   "file_extension": ".py",
   "mimetype": "text/x-python",
   "name": "python",
   "nbconvert_exporter": "python",
   "pygments_lexer": "ipython2",
   "version": "2.7.6"
  },
  "kernelspec": {
   "name": "python3",
   "language": "python",
   "display_name": "Python 3"
  },
  "pycharm": {
   "stem_cell": {
    "cell_type": "raw",
    "source": [],
    "metadata": {
     "collapsed": false
    }
   }
  }
 },
 "nbformat": 4,
 "nbformat_minor": 0
}