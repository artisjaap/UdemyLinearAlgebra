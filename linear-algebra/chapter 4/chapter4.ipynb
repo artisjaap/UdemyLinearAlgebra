{
 "cells": [
  {
   "cell_type": "code",
   "execution_count": 2,
   "metadata": {
    "collapsed": true,
    "pycharm": {
     "is_executing": false
    }
   },
   "outputs": [],
   "source": [
    "import numpy as np\n"
   ]
  },
  {
   "cell_type": "markdown",
   "source": [
    "---\n",
    "rank of a matrix\n",
    "---\n"
   ],
   "metadata": {
    "collapsed": false
   }
  },
  {
   "cell_type": "code",
   "execution_count": 36,
   "outputs": [
    {
     "name": "stdout",
     "text": [
      "Rank of the matrix A is 4\n[[-0.13954194  1.50020992  0.63840774  0.48743592  0.03358181  0.03358181]\n [-0.02553775 -0.17559445  0.78340912  0.33836197 -0.82984457 -0.82984457]\n [ 0.55396131 -1.13349345 -0.80629856 -0.10361875  1.71566036  1.71566036]\n [ 0.38346511  0.50924869 -0.59924518 -0.34770765  0.05773649  0.05773649]]\nRank of the matrix B is 4\n[[-0.13405907  1.22997352  0.23956173  0.82741005 -1.1007462  -1.7705159 ]\n [-0.87263553 -1.8660644   0.61202205 -0.86053109 -0.5077579   1.14427788]\n [-0.86483823 -0.97610645  0.24360153 -0.91011089 -0.52505705 -0.02842761]\n [-0.86483823 -0.97610645  0.24360153 -0.91011089 -0.52505705 -0.02842761]]\nRank of the matrix C is 3\n[[ -2.  -2.  -2.  15.]\n [  8.   8. -23.  -3.]\n [-10. -10. -10.  -6.]\n [-15. -15. -16.  -9.]]\n[[ -2.  -2.  -2.  15.]\n [  8.   8. -23.  -3.]\n [-10. -10. -10.  -6.]\n [-15. -15. -16.  -9.]]\nRank of the matrix A is 3\nRank of the matrix B is 3\n"
     ],
     "output_type": "stream"
    }
   ],
   "source": [
    "m = 4\n",
    "n = 6\n",
    "\n",
    "A =  np.random.randn(4,6)\n",
    "ra = np.linalg.matrix_rank(A)\n",
    "print(\"Rank of the matrix A is \" + str(ra))\n",
    "\n",
    "# set last two columns equal to each other\n",
    "B = np.random.randn(4,6)\n",
    "B[:,-1] = B[:,-2]\n",
    "\n",
    "print(B)\n",
    "ra = np.linalg.matrix_rank(B)\n",
    "print(\"Rank of the matrix B is \" + str(ra))\n",
    "\n",
    "# set last two rows equal to each other\n",
    "C = np.random.randn(4,6)\n",
    "C[-1,:] = C[-2,:]\n",
    "\n",
    "print(C)\n",
    "ra = np.linalg.matrix_rank(C)\n",
    "print(\"Rank of the matrix C is \" + str(ra))\n",
    "\n",
    "\n",
    "#adding noise\n",
    "\n",
    "A = np.round(10*np.random.randn(m,m))\n",
    "A[:,0] = A[:,1]\n",
    "print(A)\n",
    "\n",
    "noiseamp = .0000000000001\n",
    "B = A + noiseamp*np.random.randn(m,m)\n",
    "print(B)\n",
    "\n",
    "raa = np.linalg.matrix_rank(A)\n",
    "rab = np.linalg.matrix_rank(B)\n",
    "print(\"Rank of the matrix A is \" + str(raa))\n",
    "print(\"Rank of the matrix B is \" + str(rab))"
   ],
   "metadata": {
    "collapsed": false,
    "pycharm": {
     "name": "#%%\n",
     "is_executing": false
    }
   }
  },
  {
   "cell_type": "markdown",
   "source": [
    "Code challenge, create reduced matrix with matrix multiplication\n",
    "\n"
   ],
   "metadata": {
    "collapsed": false
   }
  },
  {
   "cell_type": "code",
   "execution_count": 5,
   "outputs": [
    {
     "name": "stdout",
     "text": [
      "rank is 4\n[[ 2.7773203  -0.0256985  -0.14491908  0.13395783 -0.83551626  1.48949474\n  -0.03434225  3.11513661 -0.27737108 -0.51627308]\n [ 1.38760352 -0.33073532  0.48182534 -0.32300163 -4.26307031  3.39552171\n  -0.6884008   3.04614366 -1.05560234  0.50885397]\n [ 0.49636303 -0.34416064  0.04493755 -0.02884051  4.51303509 -2.51612154\n   0.27955661 -2.02297748  0.37864594 -0.43012524]\n [ 1.98351368 -0.77921202  0.60572105 -0.34265399  3.08550554 -0.91005593\n  -0.27729136 -0.35068672 -0.52699133  0.01974993]\n [-1.14201627 -0.78773723  0.26791664 -0.5671631  -3.38017475  2.63916023\n  -0.32448354 -0.29250574 -0.10305045 -0.061078  ]\n [-1.00781196 -0.1809194  -0.49758354  0.02163179  0.69016876 -0.33416926\n   0.4992391  -1.45726678  0.96833916 -0.93923933]\n [-1.33843524  0.46597948 -0.72941869  0.29425856 -1.89554942  0.70533861\n   0.46334287  0.11502383  0.83504645 -0.6213008 ]\n [-2.82366085  0.87656765 -0.80346663  0.39966948 -3.11525818  0.6655303\n   0.45470476 -0.34782936  0.87724985 -0.18339422]\n [ 1.17214939 -0.48189717 -0.03294267 -0.0446995   4.29731664 -1.98336616\n   0.31730536 -1.38454347  0.42807804 -0.75030182]\n [ 0.59706529 -0.71255842  0.5803043  -0.45395051 -0.19033614  0.80205995\n  -0.43224729 -0.07016583 -0.57308197  0.27398704]]\n"
     ],
     "output_type": "stream"
    }
   ],
   "source": [
    "M = 10\n",
    "N = 10\n",
    "r = 4\n",
    "\n",
    "A = np.random.randn(M,r)\n",
    "Br = np.random.randn(r,N)\n",
    "\n",
    "C = A@Br\n",
    "\n",
    "rank = np.linalg.matrix_rank(C)\n",
    "print(\"rank is \" + str(rank))\n",
    "print(C)"
   ],
   "metadata": {
    "collapsed": false,
    "pycharm": {
     "name": "#%%\n",
     "is_executing": false
    }
   }
  },
  {
   "cell_type": "markdown",
   "source": [
    "scalar multiplication invariant to scalar multiplication\n",
    "Question is of rank(A) is equal or not equal to rank(l*A)"
   ],
   "metadata": {
    "collapsed": false
   }
  },
  {
   "cell_type": "code",
   "execution_count": 9,
   "outputs": [
    {
     "name": "stdout",
     "text": [
      "rank of F:10\nrank of R:4\nrank of l*F:10\nrank of l*R:4\nl*rank of F:70\n"
     ],
     "output_type": "stream"
    }
   ],
   "source": [
    "#Full rank and reduced rank matrix\n",
    "M = 10\n",
    "N = 10\n",
    "r = 4\n",
    "\n",
    "F = np.random.randn(M,M)\n",
    "R = np.random.randn(M,r)@np.random.randn(r,N)\n",
    "\n",
    "l = 7\n",
    "\n",
    "rankF = np.linalg.matrix_rank(F)\n",
    "rankLF = np.linalg.matrix_rank(l*F)\n",
    "rankR = np.linalg.matrix_rank(R)\n",
    "rankLR = np.linalg.matrix_rank(l*R)\n",
    "print(\"rank of F:\" + str(rankF))\n",
    "print(\"rank of R:\" + str(rankR))\n",
    "print(\"rank of l*F:\" + str(rankLF))\n",
    "print(\"rank of l*R:\" + str(rankLR))\n",
    "\n",
    "lrankF = l*np.linalg.matrix_rank(F)\n",
    "print(\"l*rank of F:\" + str(lrankF))"
   ],
   "metadata": {
    "collapsed": false,
    "pycharm": {
     "name": "#%%\n",
     "is_executing": false
    }
   }
  },
  {
   "cell_type": "markdown",
   "source": [
    "rank of AtA and AAt"
   ],
   "metadata": {
    "collapsed": false
   }
  },
  {
   "cell_type": "code",
   "execution_count": 4,
   "outputs": [],
   "source": [
    "m = 14\n",
    "n = 3\n",
    "\n",
    "A = np.random.randn(m,n)\n",
    "\n",
    "AtA = np.transpose(A)@A\n",
    "AAt = A@np.transpose(A)\n",
    "\n",
    "Ar = np.linalg.matrix_rank(A)\n",
    "AtAr = np.linalg.matrix_rank(AtA)\n",
    "AAtr = np.linalg.matrix_rank(AAt)"
   ],
   "metadata": {
    "collapsed": false,
    "pycharm": {
     "name": "#%%\n",
     "is_executing": false
    }
   }
  },
  {
   "cell_type": "markdown",
   "source": [
    "Code challenge"
   ],
   "metadata": {
    "collapsed": false,
    "pycharm": {
     "name": "#%% md\n"
    }
   }
  },
  {
   "cell_type": "code",
   "execution_count": 6,
   "outputs": [],
   "source": [
    "n = 2\n",
    "m = 5\n",
    "\n",
    "A = np.random.randn(n,m)\n",
    "B = np.random.randn(n,m)\n",
    "\n",
    "AtA = np.transpose(A)@A\n",
    "BtB = np.transpose(B)@B\n",
    "\n",
    "Ar = np.linalg.matrix_rank(A)\n",
    "Br = np.linalg.matrix_rank(B)\n",
    "AtAr = np.linalg.matrix_rank(AtA)\n",
    "BtBr = np.linalg.matrix_rank(BtB)\n",
    "\n",
    "AandB = AtA + BtB\n",
    "AB = AtA@BtB\n",
    "\n",
    "AandBr = np.linalg.matrix_rank(AandB) #expect 4\n",
    "ABr = np.linalg.matrix_rank(AB) # expect 2"
   ],
   "metadata": {
    "collapsed": false,
    "pycharm": {
     "name": "#%%\n",
     "is_executing": false
    }
   }
  },
  {
   "cell_type": "markdown",
   "source": [
    "adding l * I increase the rank of a matrix"
   ],
   "metadata": {
    "collapsed": false,
    "pycharm": {
     "name": "#%% md\n"
    }
   }
  },
  {
   "cell_type": "code",
   "execution_count": 4,
   "outputs": [
    {
     "name": "stdout",
     "text": [
      "rank of AtT is 2\nrank of Air is 5\n"
     ],
     "output_type": "stream"
    },
    {
     "data": {
      "text/plain": "<Figure size 640x480 with 1 Axes>"
     },
     "metadata": {},
     "output_type": "display_data"
    }
   ],
   "source": [
    "import matplotlib.pyplot as plt\n",
    "\n",
    "n = 2\n",
    "m = 5\n",
    "l = 0.01\n",
    "\n",
    "A = np.round(10*np.random.randn(n,m))\n",
    "AtA = np.transpose(A)@A\n",
    "\n",
    "#A increased rank\n",
    "Air = AtA + l* np.identity(m)\n",
    "\n",
    "print(\"rank of AtT is \" + str(np.linalg.matrix_rank(AtA)))\n",
    "print(\"rank of Air is \" + str(np.linalg.matrix_rank(Air)))\n",
    "\n",
    "fig2, ax2 = plt.subplots()\n",
    "im2 = ax2.imshow(np.imag(AtA),  extent=[-10,10,-10,10])\n",
    "plt.show()\n"
   ],
   "metadata": {
    "collapsed": false,
    "pycharm": {
     "name": "#%%\n",
     "is_executing": false
    }
   }
  },
  {
   "cell_type": "markdown",
   "source": [
    "\n",
    "test if a vector v is in a span of another vector or matrix"
   ],
   "metadata": {
    "collapsed": false
   }
  },
  {
   "cell_type": "code",
   "execution_count": 3,
   "outputs": [
    {
     "name": "stdout",
     "text": [
      "rank of S is 2\nrank of T is 2\nrank of SV is 3\nrank of TV is 2\n"
     ],
     "output_type": "stream"
    }
   ],
   "source": [
    "v = np.array([[1,2,3,4]])\n",
    "\n",
    "S = np.array([[4,3,6,2],[0,4,0,1]])\n",
    "T = np.array([[1,2,2,2],[0,0,1,2]])\n",
    "\n",
    "print(\"rank of S is \" + str(np.linalg.matrix_rank(S)))\n",
    "print(\"rank of T is \" + str(np.linalg.matrix_rank(T)))\n",
    "\n",
    "SV = np.append(S, v, axis=0)\n",
    "print(\"rank of SV is \" + str(np.linalg.matrix_rank(SV)))\n",
    "\n",
    "\n",
    "TV = np.append(T, v, axis=0)\n",
    "print(\"rank of TV is \" + str(np.linalg.matrix_rank(TV)))"
   ],
   "metadata": {
    "collapsed": false,
    "pycharm": {
     "name": "#%%\n",
     "is_executing": false
    }
   }
  }
 ],
 "metadata": {
  "language_info": {
   "codemirror_mode": {
    "name": "ipython",
    "version": 2
   },
   "file_extension": ".py",
   "mimetype": "text/x-python",
   "name": "python",
   "nbconvert_exporter": "python",
   "pygments_lexer": "ipython2",
   "version": "2.7.6"
  },
  "kernelspec": {
   "name": "python3",
   "language": "python",
   "display_name": "Python 3"
  },
  "pycharm": {
   "stem_cell": {
    "cell_type": "raw",
    "source": [],
    "metadata": {
     "collapsed": false
    }
   }
  }
 },
 "nbformat": 4,
 "nbformat_minor": 0
}