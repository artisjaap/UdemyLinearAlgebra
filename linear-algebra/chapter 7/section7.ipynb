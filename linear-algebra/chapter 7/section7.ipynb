{
 "cells": [
  {
   "cell_type": "code",
   "execution_count": 1,
   "metadata": {
    "collapsed": true,
    "pycharm": {
     "is_executing": false
    }
   },
   "outputs": [
    {
     "name": "stdout",
     "text": [
      "(Matrix([\n[1, 0, 0, 0],\n[0, 1, 0, 0],\n[0, 0, 1, 0],\n[0, 0, 0, 1]]), (0, 1, 2, 3))\n(Matrix([\n[1, 0, 0,  1],\n[0, 1, 0, -2],\n[0, 0, 1,  2]]), (0, 1, 2))\n"
     ],
     "output_type": "stream"
    },
    {
     "traceback": [
      "\u001b[1;31m---------------------------------------------------------------------------\u001b[0m",
      "\u001b[1;31mValueError\u001b[0m                                Traceback (most recent call last)",
      "\u001b[1;32m<ipython-input-1-4677f12eb4fa>\u001b[0m in \u001b[0;36m<module>\u001b[1;34m\u001b[0m\n\u001b[0;32m     15\u001b[0m \u001b[0mprint\u001b[0m\u001b[1;33m(\u001b[0m\u001b[0mRrref\u001b[0m\u001b[1;33m)\u001b[0m\u001b[1;33m\u001b[0m\u001b[0m\n\u001b[0;32m     16\u001b[0m \u001b[1;33m\u001b[0m\u001b[0m\n\u001b[1;32m---> 17\u001b[1;33m \u001b[0mnp\u001b[0m\u001b[1;33m.\u001b[0m\u001b[0mappend\u001b[0m\u001b[1;33m(\u001b[0m\u001b[0mR\u001b[0m\u001b[1;33m,\u001b[0m \u001b[0mRrref\u001b[0m\u001b[1;33m,\u001b[0m \u001b[0maxis\u001b[0m\u001b[1;33m=\u001b[0m\u001b[1;36m0\u001b[0m\u001b[1;33m)\u001b[0m\u001b[1;33m\u001b[0m\u001b[0m\n\u001b[0m\u001b[0;32m     18\u001b[0m \u001b[1;33m\u001b[0m\u001b[0m\n\u001b[0;32m     19\u001b[0m \u001b[1;33m\u001b[0m\u001b[0m\n",
      "\u001b[1;32m<__array_function__ internals>\u001b[0m in \u001b[0;36mappend\u001b[1;34m(*args, **kwargs)\u001b[0m\n",
      "\u001b[1;32mc:\\users\\stijn\\appdata\\local\\programs\\python\\python36-32\\lib\\site-packages\\numpy\\lib\\function_base.py\u001b[0m in \u001b[0;36mappend\u001b[1;34m(arr, values, axis)\u001b[0m\n\u001b[0;32m   4698\u001b[0m         \u001b[0mvalues\u001b[0m \u001b[1;33m=\u001b[0m \u001b[0mravel\u001b[0m\u001b[1;33m(\u001b[0m\u001b[0mvalues\u001b[0m\u001b[1;33m)\u001b[0m\u001b[1;33m\u001b[0m\u001b[0m\n\u001b[0;32m   4699\u001b[0m         \u001b[0maxis\u001b[0m \u001b[1;33m=\u001b[0m \u001b[0marr\u001b[0m\u001b[1;33m.\u001b[0m\u001b[0mndim\u001b[0m\u001b[1;33m-\u001b[0m\u001b[1;36m1\u001b[0m\u001b[1;33m\u001b[0m\u001b[0m\n\u001b[1;32m-> 4700\u001b[1;33m     \u001b[1;32mreturn\u001b[0m \u001b[0mconcatenate\u001b[0m\u001b[1;33m(\u001b[0m\u001b[1;33m(\u001b[0m\u001b[0marr\u001b[0m\u001b[1;33m,\u001b[0m \u001b[0mvalues\u001b[0m\u001b[1;33m)\u001b[0m\u001b[1;33m,\u001b[0m \u001b[0maxis\u001b[0m\u001b[1;33m=\u001b[0m\u001b[0maxis\u001b[0m\u001b[1;33m)\u001b[0m\u001b[1;33m\u001b[0m\u001b[0m\n\u001b[0m\u001b[0;32m   4701\u001b[0m \u001b[1;33m\u001b[0m\u001b[0m\n\u001b[0;32m   4702\u001b[0m \u001b[1;33m\u001b[0m\u001b[0m\n",
      "\u001b[1;32m<__array_function__ internals>\u001b[0m in \u001b[0;36mconcatenate\u001b[1;34m(*args, **kwargs)\u001b[0m\n",
      "\u001b[1;31mValueError\u001b[0m: all the input arrays must have same number of dimensions, but the array at index 0 has 2 dimension(s) and the array at index 1 has 1 dimension(s)"
     ],
     "ename": "ValueError",
     "evalue": "all the input arrays must have same number of dimensions, but the array at index 0 has 2 dimension(s) and the array at index 1 has 1 dimension(s)",
     "output_type": "error"
    }
   ],
   "source": [
    "import numpy as np\n",
    "from sympy import *\n",
    "\n",
    "eq1o = np.array([1,2,1])\n",
    "eq2o = np.array([2,1,3])\n",
    "\n",
    "A = Matrix( np.random.randn(4,4) )\n",
    "B = Matrix( np.random.randn(4,3) )\n",
    "\n",
    "Arref = A.rref()\n",
    "print(Arref)\n",
    "\n",
    "R = Matrix(np.array([[1,2,4,5],[2,4,5,4],[4,5,4,2]]))\n",
    "Rrref = R.rref()\n",
    "print(Rrref)\n",
    "\n",
    "# np.append(R, Rrref, axis=0)\n"
   ]
  },
  {
   "cell_type": "markdown",
   "source": [
    "Code challenge\n",
    "- square\n",
    "- rectangle (wide and tall)\n",
    "-  full rank and reduced"
   ],
   "metadata": {
    "collapsed": false,
    "pycharm": {
     "name": "#%% md\n"
    }
   }
  },
  {
   "cell_type": "code",
   "execution_count": 18,
   "outputs": [
    {
     "name": "stdout",
     "text": [
      "(Matrix([\n[1, 0, 0, 0, 0],\n[0, 1, 0, 0, 0],\n[0, 0, 1, 0, 0],\n[0, 0, 0, 1, 0],\n[0, 0, 0, 0, 1]]), (0, 1, 2, 3, 4))\n(Matrix([\n[1, 0, 0, 0, 0],\n[0, 1, 0, 0, 0],\n[0, 0, 1, 0, 0],\n[0, 0, 0, 1, 0],\n[0, 0, 0, 0, 1],\n[0, 0, 0, 0, 0],\n[0, 0, 0, 0, 0]]), (0, 1, 2, 3, 4))\n(Matrix([\n[1, 0, 0, 0, 0,  -4.21810938958242,   2.56946307276955],\n[0, 1, 0, 0, 0,   3.40839913477927,  -2.90361802476096],\n[0, 0, 1, 0, 0,  -1.77949802295414, -0.998612498464407],\n[0, 0, 0, 1, 0,   1.13411298601796,  0.981314724317566],\n[0, 0, 0, 0, 1, -0.179916586600966,  0.828969218878754]]), (0, 1, 2, 3, 4))\nRank: 5\n(Matrix([\n[1, 0, 0, 0, 0,   1.15423845493724, 0],\n[0, 1, 0, 0, 0, -0.357010967455984, 0],\n[0, 0, 1, 0, 0,  -1.11697739553569, 0],\n[0, 0, 0, 1, 0, -0.781818353278449, 0],\n[0, 0, 0, 0, 1,   1.64312860120142, 0],\n[0, 0, 0, 0, 0,                  0, 1],\n[0, 0, 0, 0, 0,                  0, 0]]), (0, 1, 2, 3, 4, 6))\n"
     ],
     "output_type": "stream"
    }
   ],
   "source": [
    "n = 5\n",
    "m = 7\n",
    "\n",
    "#square\n",
    "S = Matrix(np.random.randn(n,n))\n",
    "Srref = S.rref();\n",
    "print(Srref)\n",
    "\n",
    "#tall\n",
    "T = Matrix(np.random.randn(m,n))\n",
    "Trref = T.rref();\n",
    "print(Trref)\n",
    "\n",
    "#wide\n",
    "W = Matrix(np.random.randn(n,m))\n",
    "Wrref = W.rref();\n",
    "print(Wrref)\n",
    "\n",
    "\n",
    "#square 7*7 reduced to rank 5\n",
    "Red = np.round(np.random.randn(m,n)*10)@np.round(np.random.randn(n,m))\n",
    "R = Matrix(np.transpose(Red))\n",
    "\n",
    "Rrref = R.rref()\n",
    "print(\"Rank: \" + str(np.linalg.matrix_rank(Red)))\n",
    "print(Rrref)\n"
   ],
   "metadata": {
    "collapsed": false,
    "pycharm": {
     "name": "#%%\n",
     "is_executing": false
    }
   }
  }
 ],
 "metadata": {
  "language_info": {
   "codemirror_mode": {
    "name": "ipython",
    "version": 2
   },
   "file_extension": ".py",
   "mimetype": "text/x-python",
   "name": "python",
   "nbconvert_exporter": "python",
   "pygments_lexer": "ipython2",
   "version": "2.7.6"
  },
  "kernelspec": {
   "name": "python3",
   "language": "python",
   "display_name": "Python 3"
  },
  "pycharm": {
   "stem_cell": {
    "cell_type": "raw",
    "source": [],
    "metadata": {
     "collapsed": false
    }
   }
  }
 },
 "nbformat": 4,
 "nbformat_minor": 0
}