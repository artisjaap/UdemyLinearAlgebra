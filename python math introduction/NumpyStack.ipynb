{
 "cells": [
  {
   "cell_type": "code",
   "execution_count": 2,
   "outputs": [],
   "source": [
    "import numpy as np"
   ],
   "metadata": {
    "collapsed": false,
    "pycharm": {
     "name": "#%% \n",
     "is_executing": false
    }
   }
  },
  {
   "cell_type": "markdown",
   "metadata": {
    "collapsed": true,
    "pycharm": {
     "name": "#%% md\n"
    }
   },
   "source": [
    "# Lists vs Arrays\n",
    "\n",
    "## Adding elements to a list/array\n",
    "\n",
    "The **+** sign in lists does concatenation, in arrays it does addition\n"
   ]
  },
  {
   "cell_type": "code",
   "execution_count": 10,
   "outputs": [
    {
     "name": "stdout",
     "text": [
      "[1, 2, 3]\n[1 2 3]\n\nelements of a list:\n1\n2\n3\n\nelements of an array:\n1\n2\n3\n\nprint list after append:\n[1, 2, 3, 4]\n\nprint list after append:\n[1, 2, 3, 4, 5]\n"
     ],
     "output_type": "stream"
    }
   ],
   "source": [
    "# define a list\n",
    "L = [1,2,3]\n",
    "\n",
    "#define an array\n",
    "A = np.array([1,2,3])\n",
    "\n",
    "print(L)\n",
    "print(A)\n",
    "\n",
    "# loop through a list\n",
    "print(\"\\nelements of a list:\")\n",
    "for e in L:\n",
    "    print(e)\n",
    "    \n",
    "# loop through an array\n",
    "print(\"\\nelements of an array:\")\n",
    "for e in A:\n",
    "    print(e)\n",
    "\n",
    "# append element to a list\n",
    "L.append(4)\n",
    "print(\"\\nprint list after append:\")\n",
    "print(L)\n",
    "\n",
    "# append element to a numpy array doesnt exists\n",
    "# A.append(4)\n",
    "\n",
    "# other way to append elements to a list\n",
    "L = L + [5]\n",
    "print(\"\\nprint list after append:\")\n",
    "print(L)\n",
    "\n",
    "# this type of apppend also doesn't work for arrays\n",
    "# A = A + [4]"
   ],
   "metadata": {
    "collapsed": false,
    "pycharm": {
     "name": "#%%\n",
     "is_executing": false
    }
   }
  },
  {
   "cell_type": "markdown",
   "source": [
    "## Vector addition"
   ],
   "metadata": {
    "collapsed": false,
    "pycharm": {
     "name": "#%% md\n"
    }
   }
  },
  {
   "cell_type": "code",
   "execution_count": 20,
   "outputs": [
    {
     "name": "stdout",
     "text": [
      "\nlist addition:\n[2, 4, 6, 8, 10]\n\nVector addition:\n[2 4 6]\n\nVector multiplication:\n[2 4 6]\n\nList multiplication\n[1, 2, 3, 4, 5, 1, 2, 3, 4, 5]\n\nArray squared\n[1 4 9]\n\nArray square root\n[1.         1.41421356 1.73205081]\n\nArray logarithm\n[0.         0.69314718 1.09861229]\n\nArray exponential\n[ 2.71828183  7.3890561  20.08553692]\n"
     ],
     "output_type": "stream"
    }
   ],
   "source": [
    "# in a list, every element needs to be added individual\n",
    "# e.g. multiply L by 2:\n",
    "L2 = []\n",
    "for e in L:\n",
    "    L2.append(e+e)\n",
    "print(\"\\nlist addition:\")\n",
    "print(L2)\n",
    "\n",
    "# for an array\n",
    "print(\"\\nVector addition:\")\n",
    "A2 = A+A\n",
    "print(A2)\n",
    "\n",
    "#another way to add an array with itself is to multiply it by 2\n",
    "print(\"\\nVector multiplication:\")\n",
    "A2 = 2*A\n",
    "print(A2)\n",
    "\n",
    "# if we do multiplication on a list, it repeats itself\n",
    "L2 = 2*L\n",
    "print(\"\\nList multiplication\")\n",
    "print(L2)\n",
    "\n",
    "## element squaring doesn't work for a list, but it works for a numpy array\n",
    "AA = A**2\n",
    "print(\"\\nArray squared\")\n",
    "print(AA)\n",
    "\n",
    "## square root\n",
    "Asqrt = np.sqrt(A)\n",
    "print(\"\\nArray square root\")\n",
    "print(Asqrt)\n",
    "\n",
    "## square root\n",
    "Alog = np.log(A)\n",
    "print(\"\\nArray logarithm\")\n",
    "print(Alog)\n",
    "\n",
    "## square root\n",
    "Aexp = np.exp(A)\n",
    "print(\"\\nArray exponential\")\n",
    "print(Aexp)"
   ],
   "metadata": {
    "collapsed": false,
    "pycharm": {
     "name": "#%%\n",
     "is_executing": false
    }
   }
  },
  {
   "cell_type": "markdown",
   "source": [
    "# The dot product 1: For loop Vs Cosine method Vs dot product\n"
   ],
   "metadata": {
    "collapsed": false,
    "pycharm": {
     "name": "#%% md\n"
    }
   }
  },
  {
   "cell_type": "code",
   "execution_count": 32,
   "outputs": [
    {
     "name": "stdout",
     "text": [
      "the doc product is 4\n[2 2]\n4\n4\n4\n4\nMagnetude is 2.23606797749979\nMagnetude is 2.23606797749979\ncosangle is 0.7999999999999998\nangle is 0.6435011087932847\n"
     ],
     "output_type": "stream"
    }
   ],
   "source": [
    "# create two vectors\n",
    "a = np.array([1,2])\n",
    "b = np.array([2,1])\n",
    "\n",
    "# manual\n",
    "dot = 0\n",
    "for e,f in zip(a,b):\n",
    "    dot += e*f\n",
    "    \n",
    "print(\"the doc product is \" + str(dot))    \n",
    "\n",
    "# in arrays, do element wise multiplication\n",
    "m = a*b\n",
    "print(m)\n",
    "\n",
    "dot = np.sum(a*b)\n",
    "print(dot)\n",
    "\n",
    "# we can also use\n",
    "dot = (a*b).sum()\n",
    "print(dot)\n",
    "\n",
    "# more convenient, numpy comes with the dot function\n",
    "dot = np.dot(a,b)\n",
    "print(dot)\n",
    "\n",
    "# the dot is also a function on the array itself, so we can also use\n",
    "dot = a.dot(b)\n",
    "print(dot)\n",
    "\n",
    "#magnetude is the sqrt of the sum of each element squarred\n",
    "amag = np.sqrt((a*a).sum())\n",
    "print(\"Magnetude is \" + str(amag))\n",
    "\n",
    "# Fortunately, numpy has a function for this\n",
    "amag = np.linalg.norm(a)\n",
    "print(\"Magnetude is \" + str(amag))\n",
    "\n",
    "# calculate the angle\n",
    "cosangle = a.dot(b)/(np.linalg.norm(b)*np.linalg.norm(b))\n",
    "print(\"cosangle is \" + str(cosangle))\n",
    "\n",
    "angle = np.arccos(cosangle)\n",
    "print(\"angle is \" + str(angle) + \"rad\")"
   ],
   "metadata": {
    "collapsed": false,
    "pycharm": {
     "name": "#%%\n",
     "is_executing": false
    }
   }
  },
  {
   "cell_type": "markdown",
   "source": [
    "# Vectors and Matrices"
   ],
   "metadata": {
    "collapsed": false,
    "pycharm": {
     "name": "#%% md\n"
    }
   }
  },
  {
   "cell_type": "code",
   "execution_count": 39,
   "outputs": [
    {
     "name": "stdout",
     "text": [
      "first element of the first row of L: 1\nfirst element of the first row of M: 1\nfirst element of the first row of M: 1\n[[1 2]\n [3 4]]\n[[1 2]\n [3 4]]\n[[1 3]\n [2 4]]\n"
     ],
     "output_type": "stream"
    }
   ],
   "source": [
    "#a matrix\n",
    "M = np.array([[1,2],[3,4]])\n",
    "\n",
    "#a list of lists\n",
    "L = [[1,2],[3,4]]\n",
    "\n",
    "# get the first element on the first row of the list\n",
    "print(\"first element of the first row of L: \" + str(L[0][0]))\n",
    "\n",
    "#the same can be done on the matrix\n",
    "print(\"first element of the first row of M: \" + str(M[0][0]))\n",
    "\n",
    "# a short notation can be used on the matrix\n",
    "print(\"first element of the first row of M: \" + str(M[0,0]))\n",
    "\n",
    "# there is a real matrix datatype\n",
    "M2 = np.matrix([[1,2],[3,4]])\n",
    "print(M2)\n",
    "\n",
    "# but it's discouraged to use it, instead, convert it to an array\n",
    "M2a = np.array(M2)\n",
    "print(M2a)\n",
    "\n",
    "#transpose an array\n",
    "print(M.T)"
   ],
   "metadata": {
    "collapsed": false,
    "pycharm": {
     "name": "#%%\n",
     "is_executing": false
    }
   }
  },
  {
   "cell_type": "markdown",
   "source": [
    "# Generating arrays of data"
   ],
   "metadata": {
    "collapsed": false,
    "pycharm": {
     "name": "#%% md\n"
    }
   }
  },
  {
   "cell_type": "code",
   "execution_count": 49,
   "outputs": [
    {
     "name": "stdout",
     "text": [
      "[0. 0. 0. 0. 0. 0. 0. 0. 0. 0.]\n[[0. 0. 0. 0. 0. 0. 0. 0. 0. 0.]\n [0. 0. 0. 0. 0. 0. 0. 0. 0. 0.]\n [0. 0. 0. 0. 0. 0. 0. 0. 0. 0.]\n [0. 0. 0. 0. 0. 0. 0. 0. 0. 0.]\n [0. 0. 0. 0. 0. 0. 0. 0. 0. 0.]\n [0. 0. 0. 0. 0. 0. 0. 0. 0. 0.]\n [0. 0. 0. 0. 0. 0. 0. 0. 0. 0.]\n [0. 0. 0. 0. 0. 0. 0. 0. 0. 0.]\n [0. 0. 0. 0. 0. 0. 0. 0. 0. 0.]\n [0. 0. 0. 0. 0. 0. 0. 0. 0. 0.]]\n[[1. 1. 1. 1. 1. 1. 1. 1. 1. 1.]\n [1. 1. 1. 1. 1. 1. 1. 1. 1. 1.]\n [1. 1. 1. 1. 1. 1. 1. 1. 1. 1.]\n [1. 1. 1. 1. 1. 1. 1. 1. 1. 1.]\n [1. 1. 1. 1. 1. 1. 1. 1. 1. 1.]\n [1. 1. 1. 1. 1. 1. 1. 1. 1. 1.]\n [1. 1. 1. 1. 1. 1. 1. 1. 1. 1.]\n [1. 1. 1. 1. 1. 1. 1. 1. 1. 1.]\n [1. 1. 1. 1. 1. 1. 1. 1. 1. 1.]\n [1. 1. 1. 1. 1. 1. 1. 1. 1. 1.]]\n[[0.28408461 0.08809484 0.89940207 0.51363654 0.82367274 0.99480395\n  0.71325761 0.17970302 0.67034374 0.82659674]\n [0.41951977 0.73626055 0.38849934 0.64378739 0.23216691 0.52382496\n  0.47991489 0.17715615 0.69903022 0.83225055]\n [0.19568381 0.69328127 0.96171359 0.51042263 0.04019819 0.41192132\n  0.78428206 0.50956645 0.95675826 0.50735541]\n [0.04114342 0.63466837 0.31363518 0.48077337 0.41722359 0.77302161\n  0.78330275 0.37371169 0.76696084 0.65450467]\n [0.66044323 0.51844414 0.43548603 0.14335776 0.76622955 0.67128016\n  0.633812   0.65349139 0.59969062 0.8076772 ]\n [0.96613883 0.45034369 0.09820501 0.07979636 0.84044338 0.37398751\n  0.45784401 0.56578163 0.55830206 0.02210558]\n [0.60647872 0.10734333 0.566841   0.89941345 0.10892584 0.52002383\n  0.29639883 0.86537862 0.10162252 0.24146318]\n [0.86749878 0.24497181 0.46738099 0.55311993 0.44601057 0.60078657\n  0.15752402 0.55258388 0.42387901 0.19902515]\n [0.78760134 0.17908225 0.22768909 0.94369109 0.67176315 0.49895897\n  0.28761585 0.45027155 0.24919919 0.62903941]\n [0.11048133 0.3098889  0.02713047 0.75483461 0.97325752 0.28219358\n  0.19714584 0.58268184 0.86016315 0.04248935]]\n[[ 0.24619326 -0.2741585   1.36421413 -2.20051074  0.02957199 -1.24528256\n  -0.71300474  0.88831403 -0.09822058 -0.25483203]\n [ 1.23291423 -0.40170367  0.14738359  0.04273627  0.01164994 -0.57107864\n  -0.09978196 -0.42548115  1.06055047  1.28482067]\n [ 0.95836671 -0.02296423  1.11202432 -1.81277118 -0.11173964 -0.8922444\n   0.3406503  -1.12072098  0.62617159 -0.44973899]\n [ 1.52754252 -0.0523328  -1.28578907 -1.90614834  0.85400111 -0.83782431\n   2.3709117   0.86237267 -0.63814115 -0.89040856]\n [ 1.54210182 -0.16458518 -0.81337021 -0.76113275 -1.20472565  0.50458783\n   0.36700491  0.75742595  0.79633554  0.35622844]\n [ 1.53675368  0.72538271 -2.00744648 -0.21360856 -0.21493487 -0.40489242\n   2.16788466 -0.41116355  0.59301369  1.19685929]\n [ 0.85273744 -1.35715723 -2.10809432  1.21714646  0.42451344  0.17146729\n   1.60520465  1.74454621 -0.92255995 -0.36786046]\n [-0.54540265  0.24794112  2.25178474  1.69491243 -1.26461399 -1.33211038\n  -1.86163549  0.88201566  0.16749189 -1.02373425]\n [-1.21553977 -0.19979604  0.49007916  1.10939052  1.33660395 -1.29817199\n  -0.51974381  0.16816209 -1.26068233  0.29696252]\n [ 0.09940546 -0.06554379  0.12026456  1.77942113  1.65826684 -1.4549202\n   1.01750366 -1.74248621 -1.88521186  0.90354154]]\nMean: 0.028173281530422804\nVariance: 1.1741077290798787\n"
     ],
     "output_type": "stream"
    }
   ],
   "source": [
    "# create array of all zeros\n",
    "Z = np.zeros(10)\n",
    "print(Z)\n",
    "\n",
    "\n",
    "# create a 10x10 matrix of all zeros\n",
    "Z = np.zeros((10,10))\n",
    "print(Z)\n",
    "\n",
    "# create array of all ones\n",
    "O = np.ones((10,10))\n",
    "print(O)\n",
    "\n",
    "# create a random array \n",
    "#uniformly distributed\n",
    "R = np.random.random((10,10))\n",
    "print(R)\n",
    "\n",
    "#Gaussian distributed\n",
    "G = np.random.randn(10,10)\n",
    "print(G)\n",
    "\n",
    "#calcuate the mean\n",
    "print(\"Mean: \" + str(G.mean()))\n",
    "\n",
    "#calculate the variance\n",
    "print(\"Variance: \" + str(G.var()))"
   ],
   "metadata": {
    "collapsed": false,
    "pycharm": {
     "name": "#%%\n",
     "is_executing": false
    }
   }
  },
  {
   "cell_type": "markdown",
   "source": [
    "# Matrix products"
   ],
   "metadata": {
    "collapsed": false,
    "pycharm": {
     "name": "#%% md\n"
    }
   }
  },
  {
   "cell_type": "code",
   "execution_count": 52,
   "outputs": [
    {
     "name": "stdout",
     "text": [
      "[[-0.5097427   0.22042246  2.56715309  0.93660037 -2.08417311]\n [ 0.36582433  0.11118341 -0.69011876 -0.35324208 -2.28432469]\n [-0.31367661  1.38873132 -2.08990341  0.15548427 -0.9287071 ]\n [-1.92580561  2.24986009 -1.48512738 -1.47600719  5.20349316]\n [-1.16366491 -0.76955045 -0.30469542 -0.18405673  1.55160048]]\n[[2.72972859e-03 1.10663567e+00 6.56150654e-02 1.38038259e+00\n  1.12697522e+00]\n [3.60572160e-01 3.65862040e-01 1.90067334e+00 1.27927832e-01\n  2.81882235e+00]\n [3.72666061e-03 2.23809219e+00 6.71854013e-01 1.43029851e-02\n  3.35455769e+00]\n [5.45821802e-01 1.79793074e+00 6.88251095e-01 6.84373610e-01\n  2.93240764e+00]\n [6.02173332e-02 9.72539707e-01 1.01811828e-01 1.73636691e-01\n  1.45435700e+00]]\n"
     ],
     "output_type": "stream"
    }
   ],
   "source": [
    "A = np.random.randn(5,5)\n",
    "Am = A@A\n",
    "Ah = A*A\n",
    "print(Am)\n",
    "print(Ah)"
   ],
   "metadata": {
    "collapsed": false,
    "pycharm": {
     "name": "#%%\n",
     "is_executing": false
    }
   }
  },
  {
   "cell_type": "markdown",
   "source": [
    "# Nore matrix operations"
   ],
   "metadata": {
    "collapsed": false,
    "pycharm": {
     "name": "#%% md\n"
    }
   }
  }
 ],
 "metadata": {
  "kernelspec": {
   "display_name": "Python 3",
   "language": "python",
   "name": "python3"
  },
  "language_info": {
   "codemirror_mode": {
    "name": "ipython",
    "version": 2
   },
   "file_extension": ".py",
   "mimetype": "text/x-python",
   "name": "python",
   "nbconvert_exporter": "python",
   "pygments_lexer": "ipython2",
   "version": "2.7.6"
  },
  "pycharm": {
   "stem_cell": {
    "cell_type": "raw",
    "source": [],
    "metadata": {
     "collapsed": false
    }
   }
  }
 },
 "nbformat": 4,
 "nbformat_minor": 0
}